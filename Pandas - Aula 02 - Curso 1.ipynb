{
 "cells": [
  {
   "cell_type": "code",
   "execution_count": 3,
   "metadata": {},
   "outputs": [],
   "source": [
    "import pandas as pd"
   ]
  },
  {
   "cell_type": "code",
   "execution_count": 5,
   "metadata": {},
   "outputs": [],
   "source": [
    "# lendo arquivo em excel\n",
    "df = pd.read_excel(\"Dados Excel.xlsx\")"
   ]
  },
  {
   "cell_type": "code",
   "execution_count": null,
   "metadata": {},
   "outputs": [],
   "source": [
    "df.head()"
   ]
  },
  {
   "cell_type": "code",
   "execution_count": null,
   "metadata": {},
   "outputs": [],
   "source": [
    "# especificando qual aba abrir\n",
    "df = pd.read_excel(\"Dados Excel.xlsx\", sheet_name=\"Plan1\")"
   ]
  },
  {
   "cell_type": "code",
   "execution_count": 7,
   "metadata": {},
   "outputs": [],
   "source": [
    "# verificando os nomes das abas com sheet_names\n",
    "arq_excel = pd.ExcelFile(\"Dados Excel.xlsx\")"
   ]
  },
  {
   "cell_type": "code",
   "execution_count": 9,
   "metadata": {},
   "outputs": [
    {
     "data": {
      "text/plain": [
       "['Plan1', 'Aba2']"
      ]
     },
     "execution_count": 9,
     "metadata": {},
     "output_type": "execute_result"
    }
   ],
   "source": [
    "# vendo o nome das abas do arquivo\n",
    "arq_excel.sheet_names"
   ]
  },
  {
   "cell_type": "code",
   "execution_count": 10,
   "metadata": {},
   "outputs": [],
   "source": [
    "# mudando o nome das abas\n",
    "aba1 = arq_excel.parse(\"Plan1\")\n",
    "aba2 = arq_excel.parse(\"Aba2\")"
   ]
  },
  {
   "cell_type": "code",
   "execution_count": 11,
   "metadata": {
    "collapsed": true
   },
   "outputs": [
    {
     "data": {
      "text/html": [
       "<div>\n",
       "<style scoped>\n",
       "    .dataframe tbody tr th:only-of-type {\n",
       "        vertical-align: middle;\n",
       "    }\n",
       "\n",
       "    .dataframe tbody tr th {\n",
       "        vertical-align: top;\n",
       "    }\n",
       "\n",
       "    .dataframe thead th {\n",
       "        text-align: right;\n",
       "    }\n",
       "</style>\n",
       "<table border=\"1\" class=\"dataframe\">\n",
       "  <thead>\n",
       "    <tr style=\"text-align: right;\">\n",
       "      <th></th>\n",
       "      <th>AddressID</th>\n",
       "      <th>AddressLine1</th>\n",
       "      <th>AddressLine2</th>\n",
       "      <th>City</th>\n",
       "      <th>StateProvinceID</th>\n",
       "      <th>PostalCode</th>\n",
       "      <th>SpatialLocation</th>\n",
       "      <th>rowguid</th>\n",
       "      <th>ModifiedDate</th>\n",
       "    </tr>\n",
       "  </thead>\n",
       "  <tbody>\n",
       "    <tr>\n",
       "      <th>0</th>\n",
       "      <td>1</td>\n",
       "      <td>1970 Napa Ct.</td>\n",
       "      <td>NaN</td>\n",
       "      <td>Bothell</td>\n",
       "      <td>79</td>\n",
       "      <td>98011</td>\n",
       "      <td>0xE6100000010CAE8BFC28BCE4474067A89189898A5EC0</td>\n",
       "      <td>9AADCB0D-36CF-483F-84D8-585C2D4EC6E9</td>\n",
       "      <td>2007-12-04 00:00:00.000</td>\n",
       "    </tr>\n",
       "    <tr>\n",
       "      <th>1</th>\n",
       "      <td>2</td>\n",
       "      <td>9833 Mt. Dias Blv.</td>\n",
       "      <td>NaN</td>\n",
       "      <td>Bothell</td>\n",
       "      <td>79</td>\n",
       "      <td>98011</td>\n",
       "      <td>0xE6100000010CD6FA851AE6D74740BC262A0A03905EC0</td>\n",
       "      <td>32A54B9E-E034-4BFB-B573-A71CDE60D8C0</td>\n",
       "      <td>2008-11-30 00:00:00.000</td>\n",
       "    </tr>\n",
       "  </tbody>\n",
       "</table>\n",
       "</div>"
      ],
      "text/plain": [
       "   AddressID        AddressLine1  AddressLine2     City  StateProvinceID  \\\n",
       "0          1       1970 Napa Ct.           NaN  Bothell               79   \n",
       "1          2  9833 Mt. Dias Blv.           NaN  Bothell               79   \n",
       "\n",
       "   PostalCode                                 SpatialLocation  \\\n",
       "0       98011  0xE6100000010CAE8BFC28BCE4474067A89189898A5EC0   \n",
       "1       98011  0xE6100000010CD6FA851AE6D74740BC262A0A03905EC0   \n",
       "\n",
       "                                rowguid             ModifiedDate  \n",
       "0  9AADCB0D-36CF-483F-84D8-585C2D4EC6E9  2007-12-04 00:00:00.000  \n",
       "1  32A54B9E-E034-4BFB-B573-A71CDE60D8C0  2008-11-30 00:00:00.000  "
      ]
     },
     "execution_count": 11,
     "metadata": {},
     "output_type": "execute_result"
    }
   ],
   "source": [
    "aba1.head()"
   ]
  },
  {
   "cell_type": "code",
   "execution_count": null,
   "metadata": {},
   "outputs": [],
   "source": [
    "aba2.head()"
   ]
  }
 ],
 "metadata": {
  "kernelspec": {
   "display_name": "Python 3",
   "language": "python",
   "name": "python3"
  },
  "language_info": {
   "codemirror_mode": {
    "name": "ipython",
    "version": 3
   },
   "file_extension": ".py",
   "mimetype": "text/x-python",
   "name": "python",
   "nbconvert_exporter": "python",
   "pygments_lexer": "ipython3",
   "version": "3.6.4"
  }
 },
 "nbformat": 4,
 "nbformat_minor": 2
}
